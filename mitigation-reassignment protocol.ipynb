{
 "cells": [
  {
   "cell_type": "markdown",
   "metadata": {},
   "source": [
    "# _A Mitigation-Reassignment Protocol :_\n",
    "\n",
    "## _Experimental Demonstration of a Quantum Four-Sided Dice Model and of Preserved  Coherence in a Four-Qubit Entangled State_\n"
   ]
  },
  {
   "cell_type": "markdown",
   "metadata": {},
   "source": [
    "## Introduction:\n",
    "\n",
    "\n",
    "\n",
    "In this tutorial you will implement a quantum computing mitigation-reassignment protocol (QCMR). As an option, reassignment alone will also be tested.\n",
    "\n",
    "This protocol will be tested experimentally on a quantum four-sided dice model.\n",
    "\n",
    "The dice model will then be used, after inserting in the circuit a time delay, for assessing the evolution of the coherence of a multiple-qubit entangled state under QCMR.\n",
    "\n",
    "### The QCMR protocol:\n",
    "\n",
    "The complete protocol is as follows: \n",
    "\n",
    "- A mitigation filter is obtained for n physical qubits of a chosen quantum device (see [this tutorial](https://github.com/Qiskit/qiskit-iqx-tutorials/blob/master/qiskit/advanced/ignis/4_measurement_error_mitigation.ipynb))\n",
    "- An entangled state of these n qubits $ \\mid Q \\rangle$ is created, with corresponding ideal measurement result distribution $Q_{ideal}$\n",
    "- The legal set of results is defined as the set of results with non-zero probablility in $Q_{ideal}$. \n",
    "- A training set of raw results is obtained, with probability distribution $P_{raw}$\n",
    "- The mitigation filter is applied on the raw results. Mitigated results with distribution $P_{mit}$ are obtained  \n",
    "- The illegal set of results in $P_{mit}$ is defined as the set of results absent from the legal set. \n",
    "- Reassignment of the mitigated results is made, consisting of surjection (mapping) of the illegal set onto the legal set and obtention of the probablility distribution after reassignment $P_{obs}$.\n",
    "- The best mapping combination is obtained by minimizing a metric measuring the distance separating $P_{obs}$ from $Q_{ideal}$\n",
    "\n",
    "### Making a quantum model of four-sided dice using QCMR:\n",
    "\n",
    "The common form for a four-sided dice used by old school statisticians is a tetrahedron. When you look at the dice, each visible side shows the same triplet of digits and the outcome is the missing digit. \n",
    "\n",
    "<img src=\"4-sided_dice_250.jpg\" width=\"125\" />\n",
    "$$ \\ Outcome \\ is \\ 3 $$\n",
    "\n",
    "*(figure from Wikipedia, [licence](https://commons.wikimedia.org/wiki/File:4-sided_dice_250.jpg))*\n",
    "\n",
    "When thrown, each side has a ¼ probability to end downward. Another particularity is that such a dice ending in equilibrium on an apex or an edge is nearly impossible.\n",
    "\n",
    "A sequence of unbiased dice rolls can be described by a multinomial statistical distribution, consisting of a discrete random variable having four possible outcomes, each with probabilities concentrated around ¼ for $k$ successive trials.\n",
    "\n",
    "The quantum state corresponding to an unbiased four-sided dice is a maximally entangled four-qubit W-state:\n",
    "\n",
    "$$ \\mid Q \\rangle = \\frac{ \\mid{0001} \\rangle + \\mid{0010} \\rangle + \\mid{0100} \\rangle + \\mid{1000} \\rangle }{2}$$\n",
    "\n",
    "The corresponding legal set of results in  $Q_{ideal}$ is ('0001', '0010', '0100',  '1000') with probability ¼ for each result.\n",
    "\n",
    "If you want to reproduce such a dice equivalent on a real noisy quantum device, two major issues appear.\n",
    "\n",
    "First, the probabilities of each legal result will differ from the ideal case, hence the need for mitigation.\n",
    "\n",
    "Secondly, the elements of the illegal set of results are the equivalent of the dice ending frequently on an edge or an apex. Reassignment will provide a table (in form of a python dictionary) mapping the results of single measurements onto the four outcomes of the throw of the dice.\n",
    "\n",
    "You will use this table for testing (and using if you wish) the quantum four-sided dice that you just made.\n",
    "\n",
    "### Preservation of the quantum state\n",
    "\n",
    "One interesting property emerging from QCMR is longer preservation of the coherence of $\\mid Q \\rangle$. Multi-qubit decoherence can be studied in a superconducting processor by introducing a delay time between state creation and measurement ([Ozaeta & McMahon](https://arxiv.org/abs/1712.07080v2)).\n",
    "\n",
    "A W-state, as used in the present model, is better balanced for QCMR than a GHZ state, where propensity to decay towards the ground state will rapidly skew $P_{raw}$ in disadvantage of the '1111' result.\n",
    "\n",
    "In the last part of this tutorial, you will explore coherence preservation by inserting in your circuit an increasing number of identity gates between the quantum state creation and the measurement.\n",
    "\n",
    "### Some remarks before starting\n",
    "\n",
    "You may wonder why a four-qubit state is chosen here for making the four-sided dice. After all, the dice can be more simply simulated by using a two-qubit random number generator, which is equivalent to tossing twice a coin or tossing two coins simultaneously. However, this kind of approach would neither benefit of efficient reassignment nor allow to highlight coherence preservation.\n",
    "\n",
    "A three-sided dice construction by QCMR is possible, but experience shows that the protocol effectiveness is hampered by the fact that the illegal result set is reduced to 5 elements.\n",
    "\n",
    "Exploring \"quantum dices\" with more than four sides are exciting possibilities. However, the circuit depth increases significantly. In addition, for a $n\\geq5$ qubit W-state, the determination of the optimal reassignment demands exploring a space of $n^{(2^{n}-\\ n)}$ combinations with replacement, which is beyond the scope of this tutorial. This NP-hard problem of combinatorial optimization has similarities with the multidimensional knapsack problem. The finding of a workable non optimal combination by an approximation algorithm can be considered drawing on [this](https://en.wikipedia.org/wiki/Knapsack_problem). Confidently QCMR could be demonstrated for a 5-qubit state in an environment with more computer power and more performing programmation  than a simple laptop programmed in python alone.\n",
    "\n",
    "Meanwhile, the four-side dice model appears optimal for a QCMR demonstration and well adapted to the real devices at disposal in the IBM Q experience."
   ]
  },
  {
   "cell_type": "code",
   "execution_count": 1,
   "metadata": {},
   "outputs": [],
   "source": [
    "import numpy as np\n",
    "import time\n",
    "import itertools\n",
    "from operator import itemgetter\n",
    "import copy\n",
    "import pprint\n",
    "import operator\n",
    "\n",
    "from qiskit import QuantumRegister, QuantumCircuit, ClassicalRegister, Aer, execute, transpile, assemble\n",
    "from qiskit.providers.aer import noise\n",
    "from qiskit.tools.visualization import *\n",
    "from qiskit import IBMQ\n",
    "from qiskit.tools.monitor import job_monitor\n",
    "from qiskit.ignis.mitigation.measurement import (complete_meas_cal, tensored_meas_cal,\n",
    "                                                 CompleteMeasFitter, TensoredMeasFitter)\n",
    "\n",
    "import qiskit.tools.jupyter"
   ]
  },
  {
   "cell_type": "code",
   "execution_count": 2,
   "metadata": {},
   "outputs": [
    {
     "data": {
      "text/plain": [
       "<AccountProvider for IBMQ(hub='ibm-q', group='open', project='main')>"
      ]
     },
     "execution_count": 2,
     "metadata": {},
     "output_type": "execute_result"
    }
   ],
   "source": [
    "IBMQ.load_account()"
   ]
  },
  {
   "cell_type": "code",
   "execution_count": 3,
   "metadata": {},
   "outputs": [],
   "source": [
    "provider = IBMQ.get_provider(hub='ibm-q')"
   ]
  },
  {
   "cell_type": "markdown",
   "metadata": {},
   "source": [
    "## Determine the backend\n",
    "\n",
    "Here is the listing of the backends that you can access on line with your own account: \n"
   ]
  },
  {
   "cell_type": "code",
   "execution_count": 4,
   "metadata": {},
   "outputs": [
    {
     "data": {
      "text/plain": [
       "[<IBMQSimulator('ibmq_qasm_simulator') from IBMQ(hub='ibm-q', group='open', project='main')>,\n",
       " <IBMQBackend('ibmqx2') from IBMQ(hub='ibm-q', group='open', project='main')>,\n",
       " <IBMQBackend('ibmq_16_melbourne') from IBMQ(hub='ibm-q', group='open', project='main')>,\n",
       " <IBMQBackend('ibmq_vigo') from IBMQ(hub='ibm-q', group='open', project='main')>,\n",
       " <IBMQBackend('ibmq_ourense') from IBMQ(hub='ibm-q', group='open', project='main')>,\n",
       " <IBMQBackend('ibmq_london') from IBMQ(hub='ibm-q', group='open', project='main')>,\n",
       " <IBMQBackend('ibmq_burlington') from IBMQ(hub='ibm-q', group='open', project='main')>,\n",
       " <IBMQBackend('ibmq_essex') from IBMQ(hub='ibm-q', group='open', project='main')>]"
      ]
     },
     "execution_count": 4,
     "metadata": {},
     "output_type": "execute_result"
    }
   ],
   "source": [
    "backends = provider.backends()\n",
    "backends"
   ]
  },
  {
   "cell_type": "markdown",
   "metadata": {},
   "source": [
    "## Backend overview\n",
    "To make your choice, a good idea is to have a look at the queue for the different devices "
   ]
  },
  {
   "cell_type": "code",
   "execution_count": 5,
   "metadata": {},
   "outputs": [
    {
     "data": {
      "application/vnd.jupyter.widget-view+json": {
       "model_id": "f0d7adb2431e4268be22c978995b932e",
       "version_major": 2,
       "version_minor": 0
      },
      "text/plain": [
       "VBox(children=(HTML(value=\"<h2 style ='color:#ffffff; background-color:#000000;padding-top: 1%; padding-bottom…"
      ]
     },
     "metadata": {},
     "output_type": "display_data"
    }
   ],
   "source": [
    "%qiskit_backend_overview"
   ]
  },
  {
   "cell_type": "markdown",
   "metadata": {},
   "source": [
    "## Determine the backend\n",
    "\n",
    "Enter here the name of the backend of your choice."
   ]
  },
  {
   "cell_type": "code",
   "execution_count": 6,
   "metadata": {},
   "outputs": [
    {
     "data": {
      "text/plain": [
       "BackendStatus(backend_name='ibmqx2', backend_version='2.0.1', operational=True, pending_jobs=3, status_msg='active')"
      ]
     },
     "execution_count": 6,
     "metadata": {},
     "output_type": "execute_result"
    }
   ],
   "source": [
    "# determine here the backend\n",
    "backend = provider.get_backend('ibmqx2') # the backend names are listed here above\n",
    "backend.status()"
   ]
  },
  {
   "cell_type": "markdown",
   "metadata": {},
   "source": [
    "## Establish the layout qubit list\n",
    "\n",
    "Once the backend is chosen, you will now select four physical qubits with names $Q0$, $Q1$, $Q2$, $Q3$.\n",
    "\n",
    "The layout of the qubit set in this tutorial must preferably be ordered in such a way that the device coupling map includes [$Q0$, $Q1$], [$Q1$, $Q2$] and [$Q2$, $Q3$]. This precaution insures depth reduction and stability of the circuit from experiment to experiment. \n",
    "\n",
    "However, looking for the smallest depth is not mandatory and is sometimes detrimental. Indeed including in the layout a qubit with high error rate can lead to an excess of '0000' results, which badly affects reassignment: it is like trying to put in one of four possible rucksacks already partly filled a voluminous article which makes it overflow. For instance, on ibm yorktown, the inclusion of the physical qubit 1 experimentally can lead to this situation. \n",
    "\n",
    "An ill-designed layout can also generate unbalanced mitigated results, with some legal results appearing with probability greater than 0.25: one of the items is oversized for the rucksack. This happens for the vigo and burlington devices (see the final remark on circuit depth).  \n",
    "\n",
    "Fortunately, these two problems can be spotted at the inspection of the mitigation results before launching the search for the best reassignment combination. You may of course take a few minutes to complete the search and  check that $P_{obs}$ deviates significantly from $Q_{ideal}$. The thing to do then is to restart the program with another layout (without forgetting to obtain a new mitigation filter if the team of qubits has changed).\n",
    "\n",
    "This may seem a little bit complicated, but you can confidently go ahead without changing anything to the following cell which will do the work for you. If you want to explore other backends, don't forget to specify the device total number of physical qubits in addition to the layout qubit list."
   ]
  },
  {
   "cell_type": "code",
   "execution_count": 7,
   "metadata": {},
   "outputs": [
    {
     "name": "stdout",
     "output_type": "stream",
     "text": [
      "backend: ibmqx2 Q_list: [4, 3, 2, 0, 1] total qubits: 5\n"
     ]
    }
   ],
   "source": [
    "# Determine the qubit Q_list layout\n",
    "# The four qubits at the head of the list are the selected ones\n",
    "# The remaining qubits are neither part of the entangled state nor of the mitigation calibration but must be listed\n",
    "\n",
    "total_qubits = 5\n",
    "Q_list = [0,1,3,4,2] # one out of four options for ourense, london, essex\n",
    "\n",
    "if backend.name() == 'ibmqx2':\n",
    "    Q_list = [4,3,2,0,1]  # one out of many options for yorktown\n",
    "    \n",
    "if backend.name() == 'ibmq_vigo':\n",
    "    # best for vigo: deep circuit \n",
    "    Q_list = [0,1,2,3,4]\n",
    "\n",
    "if backend.name() == 'ibmq_burlington':\n",
    "    Q_list = [0,1,2,3,4]  # same option as for vigo - deep circuit\n",
    "\n",
    "if backend.name() == 'ibmq_16_melbourne':\n",
    "    Q_list = [13,1,2,3,0,4,5,6,7,8,9,10,11,12] # unique \"straight\" layout for melbourne\n",
    "    total_qubits = 14\n",
    "    \n",
    "qr = QuantumRegister(total_qubits)   \n",
    "print(\"backend:\", backend.name(), \"Q_list:\", Q_list, \"total qubits:\",total_qubits )"
   ]
  },
  {
   "cell_type": "markdown",
   "metadata": {},
   "source": [
    "## Decide if mitigation will happen before reassignment\n",
    "\n",
    "Set mitigation boolean variable to True for exploring the complete QCMR protocol (mainstrean option).\n",
    "\n",
    "If you are in a hurry, set mitigation to False. You will bypass the 16 circuits job of mitigation calibration and explore the effect of reassignment alone."
   ]
  },
  {
   "cell_type": "code",
   "execution_count": 49,
   "metadata": {},
   "outputs": [],
   "source": [
    "mitigation = True # The mainstream choice is True. Set to False if mitigation is not wanted. "
   ]
  },
  {
   "cell_type": "markdown",
   "metadata": {},
   "source": [
    "## Obtain the mitigation filter\n",
    "\n",
    "This section follows the procedures explained in this [tutorial](https://github.com/Qiskit/qiskit-iqx-tutorials/blob/master/qiskit/advanced/ignis/4_measurement_error_mitigation.ipynb).\n",
    "\n",
    "In short, you will generate a list of $2^4=16$ measurement calibration circuits given they are four qubits in layout list."
   ]
  },
  {
   "cell_type": "code",
   "execution_count": 9,
   "metadata": {},
   "outputs": [],
   "source": [
    "if mitigation:\n",
    "    meas_calibs, state_labels = complete_meas_cal(qubit_list=Q_list[0:4], qr=qr, circlabel='mcal')"
   ]
  },
  {
   "cell_type": "markdown",
   "metadata": {},
   "source": [
    "Then you execute the 16 circuits:"
   ]
  },
  {
   "cell_type": "code",
   "execution_count": 10,
   "metadata": {},
   "outputs": [],
   "source": [
    "if mitigation:  \n",
    "    nb_shots_cal = 8192 # set here the number of shots for the testing phase"
   ]
  },
  {
   "cell_type": "code",
   "execution_count": 11,
   "metadata": {},
   "outputs": [
    {
     "name": "stdout",
     "output_type": "stream",
     "text": [
      "5de7f630e7d60400121b802c\n",
      "Job Status: job has successfully run\n",
      "DMY:  04/12/2019 19:11:45\n"
     ]
    }
   ],
   "source": [
    "if mitigation:\n",
    "    job_cal = execute(meas_calibs, backend=backend, shots=nb_shots_cal)\n",
    "    print(job_cal.job_id())\n",
    "    job_monitor(job_cal)\n",
    "    time_exp = time.strftime('%d/%m/%Y %H:%M:%S')\n",
    "    print(\"DMY: \",time_exp)\n",
    "    cal_results = job_cal.result()"
   ]
  },
  {
   "cell_type": "markdown",
   "metadata": {},
   "source": [
    "And finally you obtain the mitigation measurements filter:"
   ]
  },
  {
   "cell_type": "code",
   "execution_count": 12,
   "metadata": {},
   "outputs": [],
   "source": [
    "if mitigation:\n",
    "    meas_fitter = CompleteMeasFitter(cal_results, state_labels, qubit_list=Q_list[0:4], circlabel='mcal')\n",
    "    meas_filter = meas_fitter.filter"
   ]
  },
  {
   "cell_type": "markdown",
   "metadata": {},
   "source": [
    "Have a look at the average measurement fidelity calculated as the trace of the calibration matrix."
   ]
  },
  {
   "cell_type": "code",
   "execution_count": 13,
   "metadata": {},
   "outputs": [
    {
     "name": "stdout",
     "output_type": "stream",
     "text": [
      "Average Measurement Fidelity: 0.888908\n"
     ]
    }
   ],
   "source": [
    "if mitigation:\n",
    "    print(\"Average Measurement Fidelity: %f\" % meas_fitter.readout_fidelity())"
   ]
  },
  {
   "cell_type": "markdown",
   "metadata": {},
   "source": [
    "## Create the quantum state\n",
    "\n",
    "The quantum state creation section is adapted to the previously defined qubit layout. This circuit is not obligatory the shallower, as it was explained above. "
   ]
  },
  {
   "cell_type": "code",
   "execution_count": 14,
   "metadata": {},
   "outputs": [],
   "source": [
    "# create the quantum state \n",
    "\n",
    "def forward(state,theta,i1,i2):\n",
    "    Q_state.ry(-theta,i2)\n",
    "    Q_state.h(i2)\n",
    "    Q_state.cx(i1,i2)\n",
    "    Q_state.h(i2)\n",
    "    Q_state.ry(theta,i2)\n",
    "    return\n",
    "\n",
    "# Make a 4-side dice equivalent quantum state \n",
    " \n",
    "Q_state = QuantumCircuit(4,4)\n",
    "\n",
    "Q_state.x(3)\n",
    "forward(Q_state,np.pi/3,3,2)\n",
    "forward(Q_state,np.arccos(np.sqrt(1/3)),2,1)\n",
    "forward(Q_state,np.pi/4,1,0)        \n",
    "\n",
    "Q_state.cx(0,1); \n",
    "Q_state.swap(0,1);\n",
    "Q_state.cx(1,2); \n",
    "Q_state.swap(1,2); \n",
    "Q_state.cx(2,3); \n",
    "Q_state.swap(2,3);         \n",
    "Q_state.cx(0,1); \n",
    "Q_state.swap(0,1);\n",
    "Q_state.cx(1,2); \n",
    "Q_state.swap(1,2);\n",
    "Q_state.cx(0,1); "
   ]
  },
  {
   "cell_type": "markdown",
   "metadata": {},
   "source": [
    "## Set the delay time\n",
    "\n",
    "Here you can set the delay time beween state creation and measurement, in units equal to an identity gate operation time, which varies from device to device.\n",
    "\n",
    "The mainstream option is no delay time. At the end of the QCMR procedure, come back here to rerun with other delay times (suggestion then: n_id >= 32)."
   ]
  },
  {
   "cell_type": "code",
   "execution_count": 15,
   "metadata": {
    "scrolled": true
   },
   "outputs": [
    {
     "data": {
      "image/png": "[encoded data removed]",
      "text/plain": [
       "<Figure size 1661.52x325.08 with 1 Axes>"
      ]
     },
     "execution_count": 15,
     "metadata": {},
     "output_type": "execute_result"
    }
   ],
   "source": [
    "n_id = 0  # mainstream option: no delay time\n",
    "             # modify for n_id > 0 (integer) for testing quantum state coherence evolution \n",
    "\n",
    "if n_id > 0:\n",
    "    Delay_time = QuantumCircuit(4, 4)\n",
    "    Delay_time.barrier();\n",
    "    for i in range(n_id):\n",
    "        for j in range(4):\n",
    "            Delay_time.iden(j)\n",
    "            \n",
    "Measure = QuantumCircuit(4, 4)\n",
    "Measure.barrier()\n",
    "for j in range(4):\n",
    "    Measure.measure(j,j)\n",
    "\n",
    "if n_id > 0:\n",
    "    Q_state_final = Q_state + Delay_time + Measure\n",
    "elif n_id == 0:\n",
    "    Q_state_final = Q_state + Measure\n",
    "    \n",
    "Q_state_final.draw(output='mpl')"
   ]
  },
  {
   "cell_type": "markdown",
   "metadata": {},
   "source": [
    "## Get the optimized version of the circuit\n",
    "\n",
    "You will now use the transpiler to get an optimized version of the final circuit.\n",
    "\n",
    "An optimization level of 1 and the predefined initial layout are both specified in the call to the transpiler, insuring that the same circuit is run from experiment to experiment.\n",
    "\n",
    "Pay attention to the depth and the gate repartition and check the layout (graph numbers refer to the *virtual* qubits). "
   ]
  },
  {
   "cell_type": "code",
   "execution_count": 16,
   "metadata": {},
   "outputs": [
    {
     "name": "stdout",
     "output_type": "stream",
     "text": [
      "backend: ibmqx2  initial_layout: [4, 3, 2, 0, 1]\n",
      "depth =  17\n",
      "gates =  OrderedDict([('cx', 14), ('u3', 7), ('measure', 4), ('barrier', 1)])\n"
     ]
    },
    {
     "data": {
      "image/png": "[encoded data removed]",
      "text/plain": [
       "<Figure size 360x360 with 1 Axes>"
      ]
     },
     "execution_count": 16,
     "metadata": {},
     "output_type": "execute_result"
    }
   ],
   "source": [
    "print(\"backend:\", backend, \" initial_layout:\", Q_list)\n",
    "Q_state_opt = transpile(Q_state_final, backend=backend, seed_transpiler=1, optimization_level=1, initial_layout=Q_list)\n",
    "print('depth = ', Q_state_opt.depth())\n",
    "print('gates = ', Q_state_opt.count_ops())\n",
    "plot_circuit_layout(Q_state_opt, backend)"
   ]
  },
  {
   "cell_type": "markdown",
   "metadata": {},
   "source": [
    "## Have a look at the optimized circuit before verification"
   ]
  },
  {
   "cell_type": "code",
   "execution_count": 17,
   "metadata": {},
   "outputs": [
    {
     "data": {
      "image/png": "[encoded data removed]",
      "text/plain": [
       "<Figure size 1661.52x385.28 with 1 Axes>"
      ]
     },
     "execution_count": 17,
     "metadata": {},
     "output_type": "execute_result"
    }
   ],
   "source": [
    "Q_state_opt_basis =  Q_state_opt.decompose()\n",
    "Q_state_opt_basis.draw(output='mpl')"
   ]
  },
  {
   "cell_type": "markdown",
   "metadata": {},
   "source": [
    "## Verify the circuit on a noise-free simulator\n",
    "\n",
    "It's always a good precaution.\n",
    "\n",
    "Expected result set: ('0001', '0010', '0100', '1000'), each with a probability around ¼"
   ]
  },
  {
   "cell_type": "code",
   "execution_count": 41,
   "metadata": {},
   "outputs": [
    {
     "name": "stdout",
     "output_type": "stream",
     "text": [
      "{'0001': 2061, '1000': 2009, '0100': 2041, '0010': 2081}\n"
     ]
    },
    {
     "data": {
      "image/png": "[encoded data removed]",
      "text/plain": [
       "<Figure size 504x360 with 1 Axes>"
      ]
     },
     "execution_count": 41,
     "metadata": {},
     "output_type": "execute_result"
    }
   ],
   "source": [
    "# Determine the simulator for circuit verification\n",
    "simulator = Aer.get_backend('qasm_simulator')  \n",
    "s_sim = 8192   \n",
    "# Proceed to the verification\n",
    "job = execute([Q_state_opt], backend=simulator, shots=s_sim)\n",
    "results_sim = job.result()\n",
    "raw_counts_sim = results_sim.get_counts()\n",
    "print(raw_counts_sim)\n",
    "plot_histogram(raw_counts_sim, legend=['raw, noise free simulated'])"
   ]
  },
  {
   "cell_type": "markdown",
   "metadata": {},
   "source": [
    "## Obtain the training raw counts"
   ]
  },
  {
   "cell_type": "code",
   "execution_count": 19,
   "metadata": {},
   "outputs": [],
   "source": [
    "nb_shots = 8192 # set here the number of shots for the training phase"
   ]
  },
  {
   "cell_type": "code",
   "execution_count": 20,
   "metadata": {},
   "outputs": [
    {
     "name": "stdout",
     "output_type": "stream",
     "text": [
      "5de7f6e5fca0610011fef787\n",
      "Job Status: job has successfully run\n",
      "DMY:  04/12/2019 19:12:59\n"
     ]
    }
   ],
   "source": [
    "# execute the circuit\n",
    "job = execute([Q_state_opt], backend=backend, shots=nb_shots)\n",
    "print(job.job_id())\n",
    "job_monitor(job)\n",
    "time_exp = time.strftime('%d/%m/%Y %H:%M:%S')\n",
    "print(\"DMY: \",time_exp)\n",
    "results = job.result()"
   ]
  },
  {
   "cell_type": "code",
   "execution_count": 21,
   "metadata": {},
   "outputs": [],
   "source": [
    "# Before obtaining and treating measurement data,\n",
    "# make sure that the generated dictionaries will end with a complete set of keys\n",
    "\n",
    "total_state_labels_list = ['0000','0001','0010','0011','0100', '0101', '0110', '0111',\n",
    "                   '1000', '1001', '1010', '1011', '1100', '1101', '1110', '1111']\n",
    "void_counts = dict(zip(total_state_labels_list, np.zeros(16, dtype=int)))\n",
    "\n",
    "raw_counts = copy.deepcopy(void_counts)\n",
    "raw_counts_test = copy.deepcopy(void_counts)\n",
    "m_counts = copy.deepcopy(void_counts)\n",
    "mct = copy.deepcopy(void_counts)"
   ]
  },
  {
   "cell_type": "code",
   "execution_count": 22,
   "metadata": {},
   "outputs": [
    {
     "name": "stdout",
     "output_type": "stream",
     "text": [
      "{'0000': 534, '0001': 1115, '0010': 1413, '0011': 195, '0100': 1667, '0101': 113, '0110': 232, '0111': 211, '1000': 1681, '1001': 120, '1010': 212, '1011': 170, '1100': 117, '1101': 181, '1110': 196, '1111': 35}\n"
     ]
    }
   ],
   "source": [
    "# Results without mitigation\n",
    "raw_counts.update(results.get_counts())\n",
    "print(raw_counts)"
   ]
  },
  {
   "cell_type": "markdown",
   "metadata": {},
   "source": [
    "## Obtain the test raw counts \n",
    " "
   ]
  },
  {
   "cell_type": "code",
   "execution_count": 23,
   "metadata": {},
   "outputs": [],
   "source": [
    "nb_shots_test = 8192 # set here the number of shots for the testing phase"
   ]
  },
  {
   "cell_type": "code",
   "execution_count": 25,
   "metadata": {},
   "outputs": [
    {
     "name": "stdout",
     "output_type": "stream",
     "text": [
      "DMY:  04/12/2019 22:11:34\n",
      "5de8210b5f8425001269eb80\n",
      "Job Status: job has successfully run\n",
      "DMY:  04/12/2019 22:12:36\n"
     ]
    }
   ],
   "source": [
    "# run the circuit\n",
    "\n",
    "time_exp = time.strftime('%d/%m/%Y %H:%M:%S')\n",
    "print(\"DMY: \",time_exp) \n",
    "job = execute([Q_state_opt], backend=backend, shots=nb_shots_test)\n",
    "print(job.job_id())\n",
    "job_monitor(job)\n",
    "time_exp = time.strftime('%d/%m/%Y %H:%M:%S')\n",
    "print(\"DMY: \",time_exp)   \n",
    "results_test = job.result()  "
   ]
  },
  {
   "cell_type": "code",
   "execution_count": 26,
   "metadata": {},
   "outputs": [
    {
     "name": "stdout",
     "output_type": "stream",
     "text": [
      "{'0000': 439, '0001': 1369, '0010': 1552, '0011': 158, '0100': 1846, '0101': 71, '0110': 197, '0111': 155, '1000': 1766, '1001': 68, '1010': 159, '1011': 126, '1100': 66, '1101': 70, '1110': 130, '1111': 20}\n"
     ]
    }
   ],
   "source": [
    "# Test results without mitigation\n",
    "raw_counts_test.update(results_test.get_counts())\n",
    "print(raw_counts_test)"
   ]
  },
  {
   "cell_type": "markdown",
   "metadata": {},
   "source": [
    "## (\"Rerun without mitigation\" point)\n",
    "\n",
    "After completing QCMR, here is to restart (Cell - Run All Below) after setting the boolean variable \"mitigation\" to False for a rerun without prior mitigation."
   ]
  },
  {
   "cell_type": "markdown",
   "metadata": {},
   "source": [
    "## Look at the training results "
   ]
  },
  {
   "cell_type": "code",
   "execution_count": 50,
   "metadata": {},
   "outputs": [
    {
     "name": "stdout",
     "output_type": "stream",
     "text": [
      "{'0000': 310.3575051800128, '0001': 1225.8139460878513, '0010': 1503.140075279526, '0011': 165.80014785535397, '0100': 1770.5950940750465, '0101': 59.15653234105788, '0110': 194.5589756653067, '0111': 230.83489021691454, '1000': 1795.4802190329485, '1001': 64.48800092324575, '1010': 179.35882355329161, '1011': 187.81753183885002, '1100': 69.37622189926466, '1101': 198.8644187804748, '1110': 209.37467249422917, '1111': 26.98294477662615}\n"
     ]
    }
   ],
   "source": [
    "# (with remediation to the plot_histogram not displaying issue of Qiskit)\n",
    "if mitigation:\n",
    "    mitigated_results = meas_filter.apply(results, method = 'least_squares')\n",
    "    m_counts.update(mitigated_results.get_counts(0))\n",
    "    legend2 = \"mitigated (training)\"\n",
    "    color2 = \"m\"\n",
    "else:\n",
    "    m_counts = raw_counts.copy()\n",
    "    legend2 = \"(no mitigation)\"\n",
    "    color2 = \"c\"\n",
    "    \n",
    "print(m_counts)"
   ]
  },
  {
   "cell_type": "code",
   "execution_count": 51,
   "metadata": {},
   "outputs": [
    {
     "data": {
      "image/png": "[encoded data removed]",
      "text/plain": [
       "<Figure size 504x360 with 1 Axes>"
      ]
     },
     "execution_count": 51,
     "metadata": {},
     "output_type": "execute_result"
    }
   ],
   "source": [
    "plot_histogram([raw_counts, m_counts], legend=['raw (training)', legend2],bar_labels=False, color=(\"c\",color2))"
   ]
  },
  {
   "cell_type": "markdown",
   "metadata": {},
   "source": [
    "## Reassignment procedure\n",
    "\n",
    "Now you will reassign the probabilities observed for the illegal result set to items of the legal set.\n",
    " \n",
    "There are $4^{12}$ possible combinations for the reassignment. It is now time to choose the metric and the optimization method.\n",
    "\n",
    "### Choose the metric\n",
    "To quantify the similarity between the observed distribution for each combination and the ideal distribution, the metrics at your disposal are for instance the squared Euclidean distance $SED$,\n",
    "the Hellinger distance or the Bhattacharyya distance. These metrics are directly related to each other. $SED$ is chosen here since it involves fewer calculations in the program loops. \n",
    "\n",
    "$$SED\\ =\\ \\sum_{i=1}^{4}{\\ \\left(\\ p_i\\ -\\ q_i\\right)^2}$$\n",
    "\n",
    "### Optimization method\n",
    " \n",
    "Among this huge number of combinations, you will need to find the best solution. A Bayesian multi-armed bandit optimization method was tested using GPyopt and was quite slow while easily getting stuck at local minima. Attempts based on dynamic programming collided with the limited number of a nested loops allowed in python. Finally, simple brute force provides the solution in a reasonable time on a laptop with python programming only.\n",
    "\n",
    "Ready for finding the best combination with the lower SED? This will take some time (a few minutes on most systems).\n",
    " \n",
    "(Note that connecting your laptop to the ac adapter rather than staying on battery can sometimes reduce the runtime by more than half)"
   ]
  },
  {
   "cell_type": "code",
   "execution_count": 52,
   "metadata": {},
   "outputs": [
    {
     "name": "stdout",
     "output_type": "stream",
     "text": [
      "Start combinations 04/12/2019 22:38:18\n",
      "performed in  2.308 min\n"
     ]
    }
   ],
   "source": [
    "# find the best combination\n",
    "\n",
    "Q_dist = np.array([0.25, 0.25, 0.25, 0.25]) # ideal distribution\n",
    "\n",
    "add_counts = np.array([m_counts['0000'], m_counts[\"0011\"], m_counts[\"0101\"], m_counts[\"0110\"],\n",
    "                    m_counts[\"0111\"], m_counts['1001'], m_counts[\"1010\"], m_counts[\"1011\"],\n",
    "                    m_counts[\"1100\"], m_counts['1101'], m_counts[\"1110\"], m_counts[\"1111\"]])/nb_shots\n",
    "\n",
    "new_sums_start = np.array([m_counts[\"0001\"],m_counts[\"0010\"],\n",
    "                           m_counts[\"0100\"],m_counts[\"1000\"]])/nb_shots\n",
    "\n",
    "pmq_start = np.subtract(new_sums_start, Q_dist)\n",
    "\n",
    "SED = 2 # set starting maximal value for squared euclidean distance.\n",
    "\n",
    "print(\"Start combinations\",time.strftime('%d/%m/%Y %H:%M:%S'))            \n",
    "time_start = time.time()\n",
    "\n",
    "for combi in itertools.product(range(4),repeat = 12):   #  cartesian product, equivalent to a nested for-loop \n",
    "    \n",
    "    pmq = pmq_start.copy()\n",
    "    for i,v in enumerate(combi):   \n",
    "        pmq[v] += add_counts[i]\n",
    "    \n",
    "    SED_new = np.dot(pmq , pmq)\n",
    "    \n",
    "    if SED_new <= SED:\n",
    "        SED = SED_new\n",
    "        combi_test = combi\n",
    "\n",
    "print(\"performed in \",round((time.time()-time_start)/60,3),\"min\")"
   ]
  },
  {
   "cell_type": "markdown",
   "metadata": {},
   "source": [
    "## A look at the training results after reassignment"
   ]
  },
  {
   "cell_type": "code",
   "execution_count": 53,
   "metadata": {},
   "outputs": [
    {
     "name": "stdout",
     "output_type": "stream",
     "text": [
      "SED (training): 3.940647E-08 for selected combination: (0, 1, 0, 0, 0, 3, 1, 3, 2, 1, 2, 0) mitigation: True\n",
      "{'0001': 0.24996396414401484, '0010': 0.24989788396834062, '0100': 0.2501643052329761, '1000': 0.2499738466546685}\n"
     ]
    }
   ],
   "source": [
    "print(\"SED (training):\", \"%.6E\" % SED, \"for selected combination:\", combi_test, \"mitigation:\", mitigation)\n",
    "\n",
    "new_sums_selected = new_sums_start.copy()   \n",
    "for i,v in enumerate(combi_test):   \n",
    "            new_sums_selected[v] += add_counts[i]\n",
    "\n",
    "legal_state_labels_list = ['0001', '0010', '0100', '1000']\n",
    "prob_dict1 = dict(zip(legal_state_labels_list, new_sums_selected))\n",
    "\n",
    "print(prob_dict1)"
   ]
  },
  {
   "cell_type": "markdown",
   "metadata": {},
   "source": [
    "## Training phase synthesis "
   ]
  },
  {
   "cell_type": "code",
   "execution_count": 54,
   "metadata": {},
   "outputs": [
    {
     "data": {
      "image/png": "[encoded data removed]",
      "text/plain": [
       "<Figure size 1008x720 with 1 Axes>"
      ]
     },
     "execution_count": 54,
     "metadata": {},
     "output_type": "execute_result"
    }
   ],
   "source": [
    "ideal_counts = {'0000':0.0, '0001':0.25, '0010':0.25, '0011':0.0,\n",
    "                 '0100':0.25, '0101':0.0, '0110':0.0, '0111':0.0,\n",
    "                 '1000':0.25 , '1001':0.0, '1010':0.0, '1011':0.0,\n",
    "                 '1100':0.0, '1101':0.0, '1110':0.0, '1111':0.0}\n",
    "illegal_state_labels_list = ['0000', '0011', '0101', '0110', '0111',\n",
    "                   '1001', '1010', '1011', '1100', '1101', '1110', '1111']\n",
    "prob_dict2 = dict(zip(illegal_state_labels_list, np.zeros(12)))\n",
    "prob_dict= {**prob_dict1, **prob_dict2}\n",
    "legend1 = \"raw (training)\"\n",
    "color1 = \"c\"\n",
    "if mitigation:\n",
    "    legend1 = \"mitigated (training)\"\n",
    "    color1 = \"m\"\n",
    "plot_histogram([m_counts, prob_dict, ideal_counts],\n",
    "                legend=[legend1, \"reassigned (training)\",\"ideal\"],\n",
    "                figsize=(14, 10),bar_labels=False, color=(\"c\",\"y\",\"k\"))"
   ]
  },
  {
   "cell_type": "markdown",
   "metadata": {},
   "source": [
    "## Create the mapping table\n",
    "\n",
    "Let's create a dictionary relating the sixteen possible results to the four dice outcomes (1, 2, 3 and 4)."
   ]
  },
  {
   "cell_type": "code",
   "execution_count": 55,
   "metadata": {},
   "outputs": [],
   "source": [
    "# create the dictionary\n",
    "\n",
    "dice_values_list1 = [1,2,3,4]\n",
    "dice_dict1 = dict(zip(legal_state_labels_list, dice_values_list1))\n",
    "dice_values_list2 = []\n",
    "for i,v in enumerate(combi_test):\n",
    "    dice_values_list2.append(v+1)\n",
    "illegal_state_labels_list = ['0000', '0011', '0101', '0110', '0111',\n",
    "                   '1001', '1010', '1011', '1100', '1101', '1110', '1111']\n",
    "dice_dict2 = dict(zip(illegal_state_labels_list, dice_values_list2))\n",
    "dice_dict= {**dice_dict1, **dice_dict2}"
   ]
  },
  {
   "cell_type": "markdown",
   "metadata": {},
   "source": [
    "## Throw the dice\n",
    "\n",
    "You have now completed the making of the quantum dice. \n",
    "\n",
    "Suppose you make a one shot experiment and you get a four bit result in the classical registers.\n",
    "\n",
    "Run the following cell to see to which dice outcome it corresponds."
   ]
  },
  {
   "cell_type": "code",
   "execution_count": 56,
   "metadata": {},
   "outputs": [
    {
     "name": "stdout",
     "output_type": "stream",
     "text": [
      "dice value is 2 for result 1101\n"
     ]
    }
   ],
   "source": [
    "# throw the dice\n",
    "key_side = \"1101\" # indicate here your result\n",
    "print(\"dice value is\",  dice_dict[key_side], \"for result\", key_side)"
   ]
  },
  {
   "cell_type": "markdown",
   "metadata": {},
   "source": [
    "## Look now at the test results"
   ]
  },
  {
   "cell_type": "code",
   "execution_count": 57,
   "metadata": {},
   "outputs": [
    {
     "name": "stdout",
     "output_type": "stream",
     "text": [
      "{'0000': 439, '0001': 1369, '0010': 1552, '0011': 158, '0100': 1846, '0101': 71, '0110': 197, '0111': 155, '1000': 1766, '1001': 68, '1010': 159, '1011': 126, '1100': 66, '1101': 70, '1110': 130, '1111': 20}\n",
      "{'0000': 172.34176366542596, '0001': 1519.3631276140804, '0010': 1661.757418785648, '0011': 119.78759816083154, '0100': 1969.821976889025, '0101': 11.077781026245347, '0110': 160.17348251504873, '0111': 165.86237843739218, '1000': 1896.5735321430343, '1001': 4.475774388984414, '1010': 123.48307981201799, '1011': 140.03980665185696, '1100': 23.800628533233063, '1101': 71.76216878813429, '1110': 137.84174377441747, '1111': 13.837738814625393}\n"
     ]
    }
   ],
   "source": [
    "# (with remediation to the plot_histogram not displaing issue of Qiskit)\n",
    "if mitigation:\n",
    "    mit_results_test = meas_filter.apply(results_test, method = 'least_squares')\n",
    "    mct.update(mit_results_test.get_counts(0))\n",
    "    legend2 = \"mitigated (test)\"\n",
    "    color2 = \"m\"\n",
    "else:\n",
    "    mct = raw_counts_test.copy()\n",
    "    legend2 = \"(no mitigation)\"\n",
    "    color2 = \"c\"\n",
    "    \n",
    "print(raw_counts_test)\n",
    "if mitigation:\n",
    "    print(mct)"
   ]
  },
  {
   "cell_type": "code",
   "execution_count": 58,
   "metadata": {},
   "outputs": [
    {
     "data": {
      "image/png": "[encoded data removed]",
      "text/plain": [
       "<Figure size 504x360 with 1 Axes>"
      ]
     },
     "execution_count": 58,
     "metadata": {},
     "output_type": "execute_result"
    }
   ],
   "source": [
    "plot_histogram([raw_counts_test, mct], legend=['raw (test)', legend2],bar_labels=False, color=(\"c\",color2))"
   ]
  },
  {
   "cell_type": "markdown",
   "metadata": {},
   "source": [
    "##  Reassignment procedure for the test results\n",
    "\n",
    "You will proceed to the reassignment by applying the best combination determined at training. "
   ]
  },
  {
   "cell_type": "code",
   "execution_count": 59,
   "metadata": {},
   "outputs": [
    {
     "name": "stdout",
     "output_type": "stream",
     "text": [
      "SED (test): 1.805043E-04 for selected combination: (0, 1, 0, 0, 0, 3, 1, 3, 2, 1, 2, 0) mitigation: True\n",
      "{'0001': 0.24934768946201394, '0010': 0.24130740546223534, '0100': 0.26018851918904734, '1000': 0.24915638588670358}\n"
     ]
    }
   ],
   "source": [
    "add_counts_test =  np.array([mct['0000'], mct[\"0011\"], mct[\"0101\"], mct[\"0110\"],\n",
    "                  mct[\"0111\"], mct['1001'], mct[\"1010\"], mct[\"1011\"],\n",
    "                  mct[\"1100\"], mct['1101'], mct[\"1110\"], mct[\"1111\"]])/nb_shots_test\n",
    "                \n",
    "new_sums_test = np.array([mct[\"0001\"], mct[\"0010\"], mct[\"0100\"], mct[\"1000\"]])/nb_shots_test   \n",
    "    \n",
    "for i,v in enumerate(combi_test):   \n",
    "    new_sums_test[v] += add_counts_test[i]\n",
    "\n",
    "pmq_test = np.subtract(new_sums_test, Q_dist) \n",
    "SED_test = np.dot(pmq_test , pmq_test)\n",
    "\n",
    "print(\"SED (test):\", \"%.6E\" % SED_test , \"for selected combination:\", combi_test, \"mitigation:\", mitigation)\n",
    "\n",
    "prob_dict1_test = dict(zip(legal_state_labels_list, new_sums_test))\n",
    "print(prob_dict1_test)"
   ]
  },
  {
   "cell_type": "markdown",
   "metadata": {},
   "source": [
    "## Test phase synthesis"
   ]
  },
  {
   "cell_type": "code",
   "execution_count": 60,
   "metadata": {},
   "outputs": [
    {
     "data": {
      "image/png": "[encoded data removed]",
      "text/plain": [
       "<Figure size 1008x720 with 1 Axes>"
      ]
     },
     "execution_count": 60,
     "metadata": {},
     "output_type": "execute_result"
    }
   ],
   "source": [
    "prob_dict_test= {**prob_dict1_test, **prob_dict2}\n",
    "legend1 = \"raw (test)\"\n",
    "color1 = \"c\"\n",
    "if mitigation:\n",
    "    legend1 = \"mitigated (test)\"\n",
    "    color1 = \"m\"\n",
    "plot_histogram([mct, prob_dict_test, ideal_counts],\n",
    "                legend=[legend1, \"reassigned\",\"ideal\"],\n",
    "                figsize=(14, 10),bar_labels=False, color=(\"c\",\"y\",\"k\"))"
   ]
  },
  {
   "cell_type": "markdown",
   "metadata": {},
   "source": [
    "##  Experimentally assess the evolution of  the four-qubit entangled state  coherence\n",
    "\n",
    "To vary the delay time, you will now insert $n_{id}$ identity gates between the circuit creating $\\mid Q \\rangle$ and the measurement.\n",
    "\n",
    "If fact, you will not observe directly the coherence decay, but infer its evolution from the effect of an increasing $n_{id}$  on $P_{obs}$ and $SED$ .\n",
    "\n",
    "Now the reassignment of the mitigated results will be made using the best combination determined from a training phase concerning the new deeper circuit.\n",
    "\n",
    "A different training phase for each $n_{id}$ value is justified by the fact that $n_{id}$ is known at the moment of the reassignment procedure. \n",
    "\n",
    "From a series of experiments, it is therefore possible to create a table of best combinations vs. $n_{id}$ .  \n",
    "\n",
    "Figures 1a and 1b show the test results of a such a series on ibmq_london. This device was chosen on the sole criterion of a reduced queuing time on experimentation day (November 28th, 2019). The number of shots was always 8192 for training and test. \n",
    "\n",
    "For reassignment alone, the $P_{obs}$ is skewed toward '0100' from a $n_{id}$ threshold of 32 with corresponding circuit depth of 49 gates. For QCMR, the same skewing is observed only from a $n_{id}$ threshold of 256 and depth of 273 gates.\n",
    "\n",
    "<img src=\"Reass_alone.png\" width=\"800\" />\n",
    "\n",
    "$$ Figure \\ 1a $$\n",
    "\n",
    "<img src=\"QCMR.png\" width=\"800\" />\n",
    "\n",
    "$$ Figure \\ 1b $$ \n",
    "\n",
    "The superiority of QCMR is confirmed by looking (Figure 2) at the $SED$ evolution with $n_{id}$. With reassignment alone, $SED$ remains acceptable up to a $n_{id}$ threshold of 32 . With full QMR, this threshold increases to 128.\n",
    "\n",
    "<img src=\"SED_QCMR.png\" width=\"800\" />\n",
    "\n",
    "$$ Figure \\ 2 $$\n",
    "\n",
    "Depending on the device specific identity gate operation time, QMR allows thus preservation of coherence after a creation plus delay time of the order of several $\\mu s$. For instance, for these experiments on ibmq_london, one can estimate, using the data of \"backend.properties()\", a state creation time of about 5 $\\mu s$ and a delay time of about 4.5 $\\mu s$ at $n_{id} = 256$\n",
    ", for a total of about 9.5 $\\mu$ without appreciable deterioration of the four-qubit entangled state coherence.\n"
   ]
  },
  {
   "cell_type": "markdown",
   "metadata": {},
   "source": [
    "### Remarks:\n",
    "\n",
    "##### _Black box conundrum_\n",
    "\n",
    "Reassignment works in QCMR as a black box. It comes on top of a mitigation technique ([Kandala et al](https://www.nature.com/articles/s41586-019-1040-7)) more rigorously justified. For QCMR, it remains unknown what levels and properties of the noise explain the effectiveness of the trick of the best combination. [Ozaeta & McMahon](https://arxiv.org/abs/1712.07080v2) already concluded that their own data on multi-qubit quantum state decoherence were \"consistent with a model in which the dominant noise affecting the system is uncorrelated across qubits\". When preparing the present tutorial, it was observed that the performance of the QCMR protocol was actually affected when attempting to constrain this blackbox to a search space of combinations with some degree of parenthood between illegal results and they reassigned legal results (for example excluding to reassign '0011' to '1000' and to '0100', and so on). These observations can justify the use of QCMR despite a \"black box conundrum\".\n",
    "\n",
    "##### _Deeper circuits are not a problem_\n",
    "\n",
    "QCMR works better sometimes if a weak link is eliminated by modifying the qubit layout even if this leads to a deeper circuit. On the Vigo and Burlington devices for instance, the a priori more fitted shallow circuits, with depth 17, gave unsatisfactory final distributions. These circuits included physical qubit 4, whose U2 error rate was relatively high. Circuits of depth 52 after substitution were then tried and gave satisfactory final distributions with low $SED$.\n",
    "\n",
    "##### _Fields of application_\n",
    "\n",
    "This kind of protocol can be considered in the making of randomizers, in the stabilization of qRAM and in the transmission of multi-qubit entangled quantum states in some protocols of cryptography or delegated quantum computaion. This list is not exhaustive. QCMR is not limited to muti-qubit W-states: other entangled states associated with different multinomial distributions for the measurement results can be considered."
   ]
  },
  {
   "cell_type": "markdown",
   "metadata": {},
   "source": [
    "### Addenda\n",
    "\n",
    "#####  Want to try a QMR with delay time using the same training and test results?\n",
    "\n",
    "If you wish, you may now rerun the cells from \"Setting the delay time\" by introducing a positive integer value for $n_{id}$. \n",
    "\n",
    "##### Want to try a reassignment process without prior mitigation?\n",
    "\n",
    "In this case, execute the next cell and return to the cell \"(\"Rerun without mitigation\" point)\" here above."
   ]
  },
  {
   "cell_type": "code",
   "execution_count": 61,
   "metadata": {},
   "outputs": [],
   "source": [
    "mitigation = False # run this cell if mitigation is wanted, then back to \"(\"Rerun without mitigation\" point)\""
   ]
  },
  {
   "cell_type": "code",
   "execution_count": 62,
   "metadata": {
    "ExecuteTime": {
     "end_time": "2019-08-22T01:32:09.434744Z",
     "start_time": "2019-08-22T01:32:09.423495Z"
    }
   },
   "outputs": [
    {
     "data": {
      "text/html": [
       "<h3>Version Information</h3><table><tr><th>Qiskit Software</th><th>Version</th></tr><tr><td>Qiskit</td><td>0.13.0</td></tr><tr><td>Terra</td><td>0.10.0</td></tr><tr><td>Aer</td><td>0.3.2</td></tr><tr><td>Ignis</td><td>0.2.0</td></tr><tr><td>Aqua</td><td>0.6.1</td></tr><tr><td>IBM Q Provider</td><td>0.3.3</td></tr><tr><th>System information</th></tr><tr><td>Python</td><td>3.7.4 (default, Aug  9 2019, 18:34:13) [MSC v.1915 64 bit (AMD64)]</td></tr><tr><td>OS</td><td>Windows</td></tr><tr><td>CPUs</td><td>4</td></tr><tr><td>Memory (Gb)</td><td>7.878513336181641</td></tr><tr><td colspan='2'>Wed Dec 04 22:40:37 2019 Paris, Madrid</td></tr></table>"
      ],
      "text/plain": [
       "<IPython.core.display.HTML object>"
      ]
     },
     "metadata": {},
     "output_type": "display_data"
    },
    {
     "data": {
      "text/html": [
       "<div style='width: 100%; background-color:#d5d9e0;padding-left: 10px; padding-bottom: 10px; padding-right: 10px; padding-top: 5px'><h3>This code is a part of Qiskit</h3><p>&copy; Copyright IBM 2017, 2019.</p><p>This code is licensed under the Apache License, Version 2.0. You may<br>obtain a copy of this license in the LICENSE.txt file in the root directory<br> of this source tree or at http://www.apache.org/licenses/LICENSE-2.0.<p>Any modifications or derivative works of this code must retain this<br>copyright notice, and modified files need to carry a notice indicating<br>that they have been altered from the originals.</p></div>"
      ],
      "text/plain": [
       "<IPython.core.display.HTML object>"
      ]
     },
     "metadata": {},
     "output_type": "display_data"
    }
   ],
   "source": [
    "import qiskit.tools.jupyter\n",
    "%qiskit_version_table\n",
    "%qiskit_copyright"
   ]
  }
 ],
 "metadata": {
  "kernelspec": {
   "display_name": "Python 3",
   "language": "python",
   "name": "python3"
  },
  "language_info": {
   "codemirror_mode": {
    "name": "ipython",
    "version": 3
   },
   "file_extension": ".py",
   "mimetype": "text/x-python",
   "name": "python",
   "nbconvert_exporter": "python",
   "pygments_lexer": "ipython3",
   "version": "3.7.4"
  },
  "varInspector": {
   "cols": {
    "lenName": 16,
    "lenType": 16,
    "lenVar": 40
   },
   "kernels_config": {
    "python": {
     "delete_cmd_postfix": "",
     "delete_cmd_prefix": "del ",
     "library": "var_list.py",
     "varRefreshCmd": "print(var_dic_list())"
    },
    "r": {
     "delete_cmd_postfix": ") ",
     "delete_cmd_prefix": "rm(",
     "library": "var_list.r",
     "varRefreshCmd": "cat(var_dic_list()) "
    }
   },
   "types_to_exclude": [
    "module",
    "function",
    "builtin_function_or_method",
    "instance",
    "_Feature"
   ],
   "window_display": false
  }
 },
 "nbformat": 4,
 "nbformat_minor": 2
}
